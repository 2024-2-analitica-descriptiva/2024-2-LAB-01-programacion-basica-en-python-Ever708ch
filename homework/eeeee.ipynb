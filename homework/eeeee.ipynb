{
 "cells": [
  {
   "cell_type": "code",
   "execution_count": 1,
   "metadata": {},
   "outputs": [
    {
     "data": {
      "text/plain": [
       "214"
      ]
     },
     "execution_count": 1,
     "metadata": {},
     "output_type": "execute_result"
    }
   ],
   "source": [
    "x = open(r\"D:\\ever\\PhD\\descriptiva\\2024-2-LAB-01-programacion-basica-en-python-Ever708ch\\files\\input\\data.csv\").readlines()\n",
    "def pregunta_01(x):\n",
    "    x = [i.split(\"\\t\") for i in x]\n",
    "    x = [int(i[1]) for i in x]\n",
    "    x = sum(x)\n",
    "    return x\n",
    "resultado = pregunta_01(x)\n",
    "resultado"
   ]
  },
  {
   "cell_type": "code",
   "execution_count": 41,
   "metadata": {},
   "outputs": [
    {
     "data": {
      "text/plain": [
       "[('A', 8), ('B', 7), ('C', 5), ('D', 6), ('E', 14)]"
      ]
     },
     "execution_count": 41,
     "metadata": {},
     "output_type": "execute_result"
    }
   ],
   "source": [
    "from collections import Counter\n",
    "x = open(r\"D:\\ever\\PhD\\descriptiva\\2024-2-LAB-01-programacion-basica-en-python-Ever708ch\\files\\input\\data.csv\").readlines()\n",
    "\n",
    "def pregunta_02(x):\n",
    "    x = [i.strip() for i in x]\n",
    "    x = [i[0] for i in x]\n",
    "    x = sorted(list(Counter(x).items()))\n",
    "    \n",
    "    return x\n",
    "resultado = pregunta_02(x)\n",
    "resultado"
   ]
  },
  {
   "cell_type": "code",
   "execution_count": null,
   "metadata": {},
   "outputs": [
    {
     "data": {
      "text/plain": [
       "[('A', 8), ('B', 7), ('C', 5), ('D', 6), ('E', 14)]"
      ]
     },
     "execution_count": 42,
     "metadata": {},
     "output_type": "execute_result"
    }
   ],
   "source": [
    "x = open(r\"D:\\ever\\PhD\\descriptiva\\2024-2-LAB-01-programacion-basica-en-python-Ever708ch\\files\\input\\data.csv\").readlines()\n",
    "\n",
    "def pregunta_03(x):\n",
    "    x = [i[0:3] for i in x]\n",
    "    x = [i.split() for i in x]\n",
    "    acumulador = {}\n",
    "    for key, value in x:\n",
    "        value = int(value)\n",
    "        if key in acumulador:\n",
    "            acumulador[key] += value\n",
    "        else:\n",
    "            acumulador[key] = value\n",
    "\n",
    "    resultado = sorted(acumulador.items())\n",
    "    return resultado\n",
    "resultado = pregunta_03(x)\n",
    "resultado"
   ]
  },
  {
   "cell_type": "code",
   "execution_count": 63,
   "metadata": {},
   "outputs": [
    {
     "data": {
      "text/plain": [
       "[('01', 3),\n",
       " ('02', 4),\n",
       " ('03', 2),\n",
       " ('04', 4),\n",
       " ('05', 3),\n",
       " ('06', 3),\n",
       " ('07', 5),\n",
       " ('08', 6),\n",
       " ('09', 3),\n",
       " ('10', 2),\n",
       " ('11', 2),\n",
       " ('12', 3)]"
      ]
     },
     "execution_count": 63,
     "metadata": {},
     "output_type": "execute_result"
    }
   ],
   "source": [
    "from collections import Counter\n",
    "x = open(r\"D:\\ever\\PhD\\descriptiva\\2024-2-LAB-01-programacion-basica-en-python-Ever708ch\\files\\input\\data.csv\").readlines()\n",
    "\n",
    "def pregunta_04(x):\n",
    "    x = [i.split() for i in x]\n",
    "    x = [i[2].split(\"-\") for i in x]\n",
    "    x = [i[1] for i in x]\n",
    "    x = sorted(Counter(x).items())\n",
    "    x\n",
    "\n",
    "    return x\n",
    "resultado = pregunta_04(x)\n",
    "resultado"
   ]
  },
  {
   "cell_type": "code",
   "execution_count": 38,
   "metadata": {},
   "outputs": [
    {
     "data": {
      "text/plain": [
       "[('A', 9, 2), ('B', 9, 1), ('C', 9, 0), ('D', 8, 3), ('E', 9, 1)]"
      ]
     },
     "execution_count": 38,
     "metadata": {},
     "output_type": "execute_result"
    }
   ],
   "source": [
    "x = open(r\"D:\\ever\\PhD\\descriptiva\\2024-2-LAB-01-programacion-basica-en-python-Ever708ch\\files\\input\\data.csv\").readlines()\n",
    "\n",
    "def pregunta_05(x):\n",
    "    group = {}\n",
    "    x = [i[0:3].split(\"\\t\") for i in x]\n",
    "    for key, value in x:\n",
    "        value = int(value)\n",
    "        if key in group:\n",
    "            group[key].append(value)\n",
    "        else:\n",
    "            group[key] = [value]\n",
    "    x = [(key, max(value), min(value)) for key, value in group.items()]\n",
    "    x.sort()\n",
    "    return x\n",
    "resultado = pregunta_05(x)\n",
    "resultado"
   ]
  },
  {
   "cell_type": "code",
   "execution_count": null,
   "metadata": {},
   "outputs": [
    {
     "data": {
      "text/plain": [
       "[('aaa', 1, 9),\n",
       " ('bbb', 1, 9),\n",
       " ('ccc', 1, 10),\n",
       " ('ddd', 0, 9),\n",
       " ('eee', 1, 7),\n",
       " ('fff', 0, 9),\n",
       " ('ggg', 3, 10),\n",
       " ('hhh', 0, 9),\n",
       " ('iii', 0, 9),\n",
       " ('jjj', 5, 17)]"
      ]
     },
     "execution_count": 42,
     "metadata": {},
     "output_type": "execute_result"
    }
   ],
   "source": [
    "x = open(r\"D:\\ever\\PhD\\descriptiva\\2024-2-LAB-01-programacion-basica-en-python-Ever708ch\\files\\input\\data.csv\").readlines()\n",
    "\n",
    "def pregunta_06(x):\n",
    "    x = [i.split() for i in x]\n",
    "    x = [i[4].split(\",\") for i in x]\n",
    "\n",
    "    new_data = []\n",
    "\n",
    "    for i in x:\n",
    "        elements = []\n",
    "        for j in i:\n",
    "            key, value = j.split(\":\") \n",
    "            elements.append([key, int(value)]) \n",
    "        new_data.append(elements)\n",
    "    merged_data = [item for sublist in new_data for item in sublist]\n",
    "    \n",
    "    group = {}    \n",
    "    for key, value in merged_data:\n",
    "        value = int(value)\n",
    "        if key in group:\n",
    "            group[key].append(value)\n",
    "        else:\n",
    "            group[key] = [value]\n",
    "    x = [(key, min(value), max(value)) for key, value in group.items()]\n",
    "    x.sort()\n",
    "    return x\n",
    "resultado = pregunta_06(x)\n",
    "resultado"
   ]
  },
  {
   "cell_type": "code",
   "execution_count": 46,
   "metadata": {},
   "outputs": [
    {
     "data": {
      "text/plain": [
       "[('aaa', 1, 9),\n",
       " ('bbb', 1, 9),\n",
       " ('ccc', 1, 10),\n",
       " ('ddd', 0, 9),\n",
       " ('eee', 1, 7),\n",
       " ('fff', 0, 9),\n",
       " ('ggg', 3, 10),\n",
       " ('hhh', 0, 9),\n",
       " ('iii', 0, 9),\n",
       " ('jjj', 5, 17)]"
      ]
     },
     "execution_count": 46,
     "metadata": {},
     "output_type": "execute_result"
    }
   ],
   "source": [
    "x = open(r\"D:\\ever\\PhD\\descriptiva\\2024-2-LAB-01-programacion-basica-en-python-Ever708ch\\files\\input\\data.csv\").readlines()\n",
    "\n",
    "def pregunta_06(x):\n",
    "    # Dividir las líneas por espacios y extraer la quinta columna\n",
    "    x = [i.split()[4].split(\",\") for i in x]\n",
    "\n",
    "    # Transformar los datos y agrupar valores por clave\n",
    "    group = {}\n",
    "    for row in x:\n",
    "        for item in row:\n",
    "            key, value = item.split(\":\")\n",
    "            value = int(value)\n",
    "            group.setdefault(key, []).append(value)\n",
    "\n",
    "    # Calcular mínimo y máximo para cada clave, y ordenar\n",
    "    result = sorted((key, min(values), max(values)) for key, values in group.items())\n",
    "    return result\n",
    "resultado = pregunta_06(x)\n",
    "resultado"
   ]
  },
  {
   "cell_type": "code",
   "execution_count": null,
   "metadata": {},
   "outputs": [
    {
     "data": {
      "text/plain": [
       "{1: ['E', 'B', 'E'],\n",
       " 2: ['A', 'E'],\n",
       " 5: ['B', 'C', 'D', 'D', 'E', 'E', 'E'],\n",
       " 3: ['A', 'B', 'D', 'E', 'E', 'D'],\n",
       " 6: ['C', 'E', 'A', 'B'],\n",
       " 7: ['A', 'C', 'E', 'D'],\n",
       " 9: ['A', 'B', 'E', 'A', 'A', 'C'],\n",
       " 8: ['E', 'D', 'E', 'A', 'B'],\n",
       " 4: ['E', 'B'],\n",
       " 0: ['C']}"
      ]
     },
     "execution_count": 56,
     "metadata": {},
     "output_type": "execute_result"
    }
   ],
   "source": [
    "x = open(r\"D:\\ever\\PhD\\descriptiva\\2024-2-LAB-01-programacion-basica-en-python-Ever708ch\\files\\input\\data.csv\").readlines()\n",
    "\n",
    "def pregunta_07(x):\n",
    "    x = [i[0:3].split(\"\\t\") for i in x]\n",
    "\n",
    "    group = {}\n",
    "\n",
    "    for letter, number in x:\n",
    "        number = int(number)  \n",
    "        if number not in group:\n",
    "            group[number] = []  \n",
    "        group[number].append(letter)  \n",
    "    \n",
    "    x = group\n",
    "\n",
    "    return x\n",
    "resultado = pregunta_07(x)\n",
    "resultado"
   ]
  }
 ],
 "metadata": {
  "kernelspec": {
   "display_name": "Python 3",
   "language": "python",
   "name": "python3"
  },
  "language_info": {
   "codemirror_mode": {
    "name": "ipython",
    "version": 3
   },
   "file_extension": ".py",
   "mimetype": "text/x-python",
   "name": "python",
   "nbconvert_exporter": "python",
   "pygments_lexer": "ipython3",
   "version": "3.10.7"
  }
 },
 "nbformat": 4,
 "nbformat_minor": 2
}
