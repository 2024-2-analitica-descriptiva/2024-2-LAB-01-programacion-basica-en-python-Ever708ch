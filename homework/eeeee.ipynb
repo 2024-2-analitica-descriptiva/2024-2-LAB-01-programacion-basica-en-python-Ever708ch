{
 "cells": [
  {
   "cell_type": "code",
   "execution_count": 39,
   "metadata": {},
   "outputs": [
    {
     "data": {
      "text/plain": [
       "214"
      ]
     },
     "execution_count": 39,
     "metadata": {},
     "output_type": "execute_result"
    }
   ],
   "source": [
    "x = open(r\"D:\\ever\\PhD\\descriptiva\\2024-2-LAB-01-programacion-basica-en-python-Ever708ch\\files\\input\\data.csv\").readlines()\n",
    "def pregunta_01(x):\n",
    "    x = [i.split(\"\\t\") for i in x]\n",
    "    x = [int(i[1]) for i in x]\n",
    "    x = sum(x)\n",
    "    return x\n",
    "resultado = pregunta_01(x)\n",
    "resultado"
   ]
  },
  {
   "cell_type": "code",
   "execution_count": 41,
   "metadata": {},
   "outputs": [
    {
     "data": {
      "text/plain": [
       "[('A', 8), ('B', 7), ('C', 5), ('D', 6), ('E', 14)]"
      ]
     },
     "execution_count": 41,
     "metadata": {},
     "output_type": "execute_result"
    }
   ],
   "source": [
    "from collections import Counter\n",
    "x = open(r\"D:\\ever\\PhD\\descriptiva\\2024-2-LAB-01-programacion-basica-en-python-Ever708ch\\files\\input\\data.csv\").readlines()\n",
    "\n",
    "def pregunta_02(x):\n",
    "    x = [i.strip() for i in x]\n",
    "    x = [i[0] for i in x]\n",
    "    x = sorted(list(Counter(x).items()))\n",
    "    \n",
    "    return x\n",
    "resultado = pregunta_02(x)\n",
    "resultado"
   ]
  },
  {
   "cell_type": "code",
   "execution_count": null,
   "metadata": {},
   "outputs": [
    {
     "data": {
      "text/plain": [
       "[('A', 8), ('B', 7), ('C', 5), ('D', 6), ('E', 14)]"
      ]
     },
     "execution_count": 42,
     "metadata": {},
     "output_type": "execute_result"
    }
   ],
   "source": [
    "x = open(r\"D:\\ever\\PhD\\descriptiva\\2024-2-LAB-01-programacion-basica-en-python-Ever708ch\\files\\input\\data.csv\").readlines()\n",
    "\n",
    "def pregunta_03(x):\n",
    "    x = [i[0:3] for i in x]\n",
    "    x = [i.split() for i in x]\n",
    "    acumulador = {}\n",
    "    for key, value in x:\n",
    "        value = int(value)\n",
    "        if key in acumulador:\n",
    "            acumulador[key] += value\n",
    "        else:\n",
    "            acumulador[key] = value\n",
    "\n",
    "    resultado = sorted(acumulador.items())\n",
    "    return resultado\n",
    "resultado = pregunta_03(x)\n",
    "resultado"
   ]
  },
  {
   "cell_type": "code",
   "execution_count": 63,
   "metadata": {},
   "outputs": [
    {
     "data": {
      "text/plain": [
       "[('01', 3),\n",
       " ('02', 4),\n",
       " ('03', 2),\n",
       " ('04', 4),\n",
       " ('05', 3),\n",
       " ('06', 3),\n",
       " ('07', 5),\n",
       " ('08', 6),\n",
       " ('09', 3),\n",
       " ('10', 2),\n",
       " ('11', 2),\n",
       " ('12', 3)]"
      ]
     },
     "execution_count": 63,
     "metadata": {},
     "output_type": "execute_result"
    }
   ],
   "source": [
    "from collections import Counter\n",
    "x = open(r\"D:\\ever\\PhD\\descriptiva\\2024-2-LAB-01-programacion-basica-en-python-Ever708ch\\files\\input\\data.csv\").readlines()\n",
    "\n",
    "def pregunta_04(x):\n",
    "    x = [i.split() for i in x]\n",
    "    x = [i[2].split(\"-\") for i in x]\n",
    "    x = [i[1] for i in x]\n",
    "    x = sorted(Counter(x).items())\n",
    "    x\n",
    "\n",
    "    return x\n",
    "resultado = pregunta_04(x)\n",
    "resultado"
   ]
  },
  {
   "cell_type": "code",
   "execution_count": 75,
   "metadata": {},
   "outputs": [
    {
     "data": {
      "text/plain": [
       "[('A', 9, 2), ('B', 9, 1), ('C', 9, 0), ('D', 8, 3), ('E', 9, 1)]"
      ]
     },
     "execution_count": 75,
     "metadata": {},
     "output_type": "execute_result"
    }
   ],
   "source": [
    "x = open(r\"D:\\ever\\PhD\\descriptiva\\2024-2-LAB-01-programacion-basica-en-python-Ever708ch\\files\\input\\data.csv\").readlines()\n",
    "\n",
    "def pregunta_05(x):\n",
    "    group = {}\n",
    "    x = [i[0:3].split(\"\\t\") for i in x]\n",
    "    for key, value in x:\n",
    "        value = int(value)\n",
    "        if key in group:\n",
    "            group[key].append(value)\n",
    "        else:\n",
    "            group[key] = [value]\n",
    "    x = [(key, max(value), min(value)) for key, value in group.items()]\n",
    "    x.sort()\n",
    "    return x\n",
    "resultado = pregunta_05(x)\n",
    "resultado"
   ]
  },
  {
   "cell_type": "code",
   "execution_count": 103,
   "metadata": {},
   "outputs": [
    {
     "data": {
      "text/plain": [
       "[['jjj:12', 'bbb:3', 'ddd:9', 'ggg:8', 'hhh:2'],\n",
       " ['ccc:2', 'ddd:0', 'aaa:3', 'hhh:9'],\n",
       " ['ddd:2', 'ggg:5', 'ccc:6', 'jjj:12'],\n",
       " ['hhh:9', 'iii:5', 'eee:7', 'bbb:1'],\n",
       " ['iii:6', 'ddd:5', 'eee:4', 'jjj:12'],\n",
       " ['bbb:2', 'hhh:0', 'ccc:4', 'fff:1', 'aaa:7'],\n",
       " ['aaa:5', 'fff:8', 'ddd:2', 'iii:0', 'jjj:7', 'ccc:1'],\n",
       " ['fff:3', 'hhh:1', 'ddd:2'],\n",
       " ['eee:4', 'ccc:5', 'iii:9', 'fff:7', 'ggg:6', 'bbb:2'],\n",
       " ['bbb:7', 'jjj:9', 'fff:5', 'iii:4', 'ggg:3', 'eee:3'],\n",
       " ['hhh:6', 'eee:4', 'iii:0', 'fff:2', 'jjj:12'],\n",
       " ['bbb:7', 'iii:6', 'ggg:9'],\n",
       " ['bbb:9', 'aaa:3', 'ccc:6', 'fff:4', 'eee:2'],\n",
       " ['aaa:8', 'ddd:5', 'jjj:12'],\n",
       " ['ccc:7', 'jjj:6', 'fff:7', 'ddd:3', 'aaa:2'],\n",
       " ['ccc:8', 'eee:6', 'bbb:9', 'ddd:3'],\n",
       " ['bbb:6', 'iii:3', 'hhh:5', 'fff:4', 'ggg:9', 'ddd:2'],\n",
       " ['hhh:4', 'jjj:5', 'ccc:9'],\n",
       " ['ccc:1', 'iii:6', 'fff:9'],\n",
       " ['bbb:9', 'aaa:3', 'fff:1'],\n",
       " ['ddd:9', 'iii:2', 'aaa:4'],\n",
       " ['ccc:5', 'fff:8', 'iii:7'],\n",
       " ['eee:3', 'jjj:17', 'ddd:7'],\n",
       " ['jjj:12', 'ggg:7', 'ccc:7', 'ddd:9', 'bbb:3'],\n",
       " ['jjj:6', 'ccc:4', 'aaa:1', 'hhh:9', 'iii:7', 'ggg:8'],\n",
       " ['fff:3', 'eee:6', 'iii:4', 'bbb:7', 'ddd:4', 'ccc:1'],\n",
       " ['fff:0', 'ddd:5', 'ccc:4'],\n",
       " ['ggg:6', 'hhh:3', 'ddd:9', 'ccc:10', 'jjj:7'],\n",
       " ['hhh:6', 'jjj:13', 'eee:5', 'iii:7', 'ccc:3'],\n",
       " ['eee:1', 'fff:4', 'aaa:2', 'ccc:7', 'ggg:10', 'ddd:6'],\n",
       " ['ccc:6', 'aaa:9', 'eee:5', 'ddd:0', 'bbb:3'],\n",
       " ['bbb:7', 'hhh:1', 'aaa:6', 'iii:4', 'fff:9', 'ddd:5'],\n",
       " ['fff:3', 'ccc:1', 'ggg:3', 'eee:5'],\n",
       " ['iii:7', 'ggg:3', 'ddd:0', 'jjj:8', 'hhh:5', 'ccc:1'],\n",
       " ['hhh:6', 'ccc:3', 'jjj:9', 'bbb:8', 'ddd:7'],\n",
       " ['aaa:1', 'fff:5', 'ddd:3'],\n",
       " ['ddd:5', 'jjj:17', 'iii:7', 'ccc:10', 'bbb:4'],\n",
       " ['eee:3', 'fff:2', 'hhh:6'],\n",
       " ['fff:9', 'iii:2', 'eee:5'],\n",
       " ['hhh:8', 'ggg:3', 'jjj:5']]"
      ]
     },
     "execution_count": 103,
     "metadata": {},
     "output_type": "execute_result"
    }
   ],
   "source": [
    "x = open(r\"D:\\ever\\PhD\\descriptiva\\2024-2-LAB-01-programacion-basica-en-python-Ever708ch\\files\\input\\data.csv\").readlines()\n",
    "\n",
    "def pregunta_06(x):\n",
    "    group = {}\n",
    "    x = [i.split() for i in x]\n",
    "    x = [i[4].split(\",\") for i in x]\n",
    "    #x = [list(i) for i in x]\n",
    "   \n",
    "\n",
    "    # for i in x:\n",
    "    #     for j in i:\n",
    "    #         key, value = y.split(\":\") \n",
    "    #         value = int(value)          \n",
    "    #         if key in acumulador:\n",
    "    #             acumulador[key].append(value)\n",
    "    #         else:\n",
    "    #             acumulador[key] = [value]\n",
    "\n",
    "\n",
    "    #x = [(key, max(value), min(value)) for key, value in acumulador.items()]\n",
    "    #x = {clave: (max(valores), min(valores)) for clave, valores in acumulador.items()}\n",
    "    # x.sort()\n",
    "    x\n",
    "    return x\n",
    "resultado = pregunta_06(x)\n",
    "resultado"
   ]
  }
 ],
 "metadata": {
  "kernelspec": {
   "display_name": "Python 3",
   "language": "python",
   "name": "python3"
  },
  "language_info": {
   "codemirror_mode": {
    "name": "ipython",
    "version": 3
   },
   "file_extension": ".py",
   "mimetype": "text/x-python",
   "name": "python",
   "nbconvert_exporter": "python",
   "pygments_lexer": "ipython3",
   "version": "3.10.7"
  }
 },
 "nbformat": 4,
 "nbformat_minor": 2
}
