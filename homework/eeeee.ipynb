{
 "cells": [
  {
   "cell_type": "code",
   "execution_count": 1,
   "metadata": {},
   "outputs": [
    {
     "data": {
      "text/plain": [
       "214"
      ]
     },
     "execution_count": 1,
     "metadata": {},
     "output_type": "execute_result"
    }
   ],
   "source": [
    "x = open(r\"D:\\ever\\PhD\\descriptiva\\2024-2-LAB-01-programacion-basica-en-python-Ever708ch\\files\\input\\data.csv\").readlines()\n",
    "def pregunta_01(x):\n",
    "    x = [i.split(\"\\t\") for i in x]\n",
    "    x = [int(i[1]) for i in x]\n",
    "    x = sum(x)\n",
    "    return x\n",
    "resultado = pregunta_01(x)\n",
    "resultado"
   ]
  },
  {
   "cell_type": "code",
   "execution_count": 160,
   "metadata": {},
   "outputs": [
    {
     "data": {
      "text/plain": [
       "[('A', 8), ('B', 7), ('C', 5), ('D', 6), ('E', 14)]"
      ]
     },
     "execution_count": 160,
     "metadata": {},
     "output_type": "execute_result"
    }
   ],
   "source": [
    "def pregunta_02(x):\n",
    "    from collections import Counter\n",
    "    x = open(r\"D:\\ever\\PhD\\descriptiva\\2024-2-LAB-01-programacion-basica-en-python-Ever708ch\\files\\input\\data.csv\").readlines()\n",
    "\n",
    "    x = [i.strip() for i in x]\n",
    "    x = [i[0] for i in x]\n",
    "    x = sorted(list(Counter(x).items()))\n",
    "    \n",
    "    return x\n",
    "resultado = pregunta_02(x)\n",
    "resultado"
   ]
  },
  {
   "cell_type": "code",
   "execution_count": null,
   "metadata": {},
   "outputs": [
    {
     "data": {
      "text/plain": [
       "[('A', 8), ('B', 7), ('C', 5), ('D', 6), ('E', 14)]"
      ]
     },
     "execution_count": 42,
     "metadata": {},
     "output_type": "execute_result"
    }
   ],
   "source": [
    "x = open(r\"D:\\ever\\PhD\\descriptiva\\2024-2-LAB-01-programacion-basica-en-python-Ever708ch\\files\\input\\data.csv\").readlines()\n",
    "\n",
    "def pregunta_03(x):\n",
    "    x = [i[0:3] for i in x]\n",
    "    x = [i.split() for i in x]\n",
    "    acumulador = {}\n",
    "    for key, value in x:\n",
    "        value = int(value)\n",
    "        if key in acumulador:\n",
    "            acumulador[key] += value\n",
    "        else:\n",
    "            acumulador[key] = value\n",
    "\n",
    "    resultado = sorted(acumulador.items())\n",
    "    return resultado\n",
    "resultado = pregunta_03(x)\n",
    "resultado"
   ]
  },
  {
   "cell_type": "code",
   "execution_count": 63,
   "metadata": {},
   "outputs": [
    {
     "data": {
      "text/plain": [
       "[('01', 3),\n",
       " ('02', 4),\n",
       " ('03', 2),\n",
       " ('04', 4),\n",
       " ('05', 3),\n",
       " ('06', 3),\n",
       " ('07', 5),\n",
       " ('08', 6),\n",
       " ('09', 3),\n",
       " ('10', 2),\n",
       " ('11', 2),\n",
       " ('12', 3)]"
      ]
     },
     "execution_count": 63,
     "metadata": {},
     "output_type": "execute_result"
    }
   ],
   "source": [
    "from collections import Counter\n",
    "x = open(r\"D:\\ever\\PhD\\descriptiva\\2024-2-LAB-01-programacion-basica-en-python-Ever708ch\\files\\input\\data.csv\").readlines()\n",
    "\n",
    "def pregunta_04(x):\n",
    "    x = [i.split() for i in x]\n",
    "    x = [i[2].split(\"-\") for i in x]\n",
    "    x = [i[1] for i in x]\n",
    "    x = sorted(Counter(x).items())\n",
    "    x\n",
    "\n",
    "    return x\n",
    "resultado = pregunta_04(x)\n",
    "resultado"
   ]
  },
  {
   "cell_type": "code",
   "execution_count": 38,
   "metadata": {},
   "outputs": [
    {
     "data": {
      "text/plain": [
       "[('A', 9, 2), ('B', 9, 1), ('C', 9, 0), ('D', 8, 3), ('E', 9, 1)]"
      ]
     },
     "execution_count": 38,
     "metadata": {},
     "output_type": "execute_result"
    }
   ],
   "source": [
    "x = open(r\"D:\\ever\\PhD\\descriptiva\\2024-2-LAB-01-programacion-basica-en-python-Ever708ch\\files\\input\\data.csv\").readlines()\n",
    "\n",
    "def pregunta_05(x):\n",
    "    group = {}\n",
    "    x = [i[0:3].split(\"\\t\") for i in x]\n",
    "    for key, value in x:\n",
    "        value = int(value)\n",
    "        if key in group:\n",
    "            group[key].append(value)\n",
    "        else:\n",
    "            group[key] = [value]\n",
    "    x = [(key, max(value), min(value)) for key, value in group.items()]\n",
    "    x.sort()\n",
    "    return x\n",
    "resultado = pregunta_05(x)\n",
    "resultado"
   ]
  },
  {
   "cell_type": "code",
   "execution_count": null,
   "metadata": {},
   "outputs": [
    {
     "data": {
      "text/plain": [
       "[('aaa', 1, 9),\n",
       " ('bbb', 1, 9),\n",
       " ('ccc', 1, 10),\n",
       " ('ddd', 0, 9),\n",
       " ('eee', 1, 7),\n",
       " ('fff', 0, 9),\n",
       " ('ggg', 3, 10),\n",
       " ('hhh', 0, 9),\n",
       " ('iii', 0, 9),\n",
       " ('jjj', 5, 17)]"
      ]
     },
     "execution_count": 42,
     "metadata": {},
     "output_type": "execute_result"
    }
   ],
   "source": [
    "x = open(r\"D:\\ever\\PhD\\descriptiva\\2024-2-LAB-01-programacion-basica-en-python-Ever708ch\\files\\input\\data.csv\").readlines()\n",
    "\n",
    "def pregunta_06(x):\n",
    "    x = [i.split() for i in x]\n",
    "    x = [i[4].split(\",\") for i in x]\n",
    "\n",
    "    new_data = []\n",
    "\n",
    "    for i in x:\n",
    "        elements = []\n",
    "        for j in i:\n",
    "            key, value = j.split(\":\") \n",
    "            elements.append([key, int(value)]) \n",
    "        new_data.append(elements)\n",
    "    merged_data = [item for sublist in new_data for item in sublist]\n",
    "    \n",
    "    group = {}    \n",
    "    for key, value in merged_data:\n",
    "        value = int(value)\n",
    "        if key in group:\n",
    "            group[key].append(value)\n",
    "        else:\n",
    "            group[key] = [value]\n",
    "    x = [(key, min(value), max(value)) for key, value in group.items()]\n",
    "    x.sort()\n",
    "    return x\n",
    "resultado = pregunta_06(x)\n",
    "resultado"
   ]
  },
  {
   "cell_type": "code",
   "execution_count": 60,
   "metadata": {},
   "outputs": [
    {
     "data": {
      "text/plain": [
       "[('aaa', 1, 9),\n",
       " ('bbb', 1, 9),\n",
       " ('ccc', 1, 10),\n",
       " ('ddd', 0, 9),\n",
       " ('eee', 1, 7),\n",
       " ('fff', 0, 9),\n",
       " ('ggg', 3, 10),\n",
       " ('hhh', 0, 9),\n",
       " ('iii', 0, 9),\n",
       " ('jjj', 5, 17)]"
      ]
     },
     "execution_count": 60,
     "metadata": {},
     "output_type": "execute_result"
    }
   ],
   "source": [
    "x = open(r\"D:\\ever\\PhD\\descriptiva\\2024-2-LAB-01-programacion-basica-en-python-Ever708ch\\files\\input\\data.csv\").readlines()\n",
    "\n",
    "def pregunta_06(x):\n",
    "    x = [i.split()[4].split(\",\") for i in x]\n",
    "\n",
    "    group = {}\n",
    "    for row in x:\n",
    "        for item in row:\n",
    "            key, value = item.split(\":\")\n",
    "            value = int(value)\n",
    "            group.setdefault(key, []).append(value)\n",
    "\n",
    "    result = sorted((key, min(values), max(values)) for key, values in group.items())\n",
    "    return result\n",
    "resultado = pregunta_06(x)\n",
    "resultado"
   ]
  },
  {
   "cell_type": "code",
   "execution_count": 61,
   "metadata": {},
   "outputs": [
    {
     "data": {
      "text/plain": [
       "[(0, ['C']),\n",
       " (1, ['E', 'B', 'E']),\n",
       " (2, ['A', 'E']),\n",
       " (3, ['A', 'B', 'D', 'E', 'E', 'D']),\n",
       " (4, ['E', 'B']),\n",
       " (5, ['B', 'C', 'D', 'D', 'E', 'E', 'E']),\n",
       " (6, ['C', 'E', 'A', 'B']),\n",
       " (7, ['A', 'C', 'E', 'D']),\n",
       " (8, ['E', 'D', 'E', 'A', 'B']),\n",
       " (9, ['A', 'B', 'E', 'A', 'A', 'C'])]"
      ]
     },
     "execution_count": 61,
     "metadata": {},
     "output_type": "execute_result"
    }
   ],
   "source": [
    "\n",
    "def pregunta_07():\n",
    "    x = open(r\"D:\\ever\\PhD\\descriptiva\\2024-2-LAB-01-programacion-basica-en-python-Ever708ch\\files\\input\\data.csv\").readlines()\n",
    "\n",
    "    x = [i[0:3].split(\"\\t\") for i in x]\n",
    "\n",
    "    group = {}\n",
    "\n",
    "    for letter, number in x:\n",
    "        number = int(number)  \n",
    "        if number not in group:\n",
    "            group[number] = []  \n",
    "        group[number].append(letter)  \n",
    "    \n",
    "    x = group\n",
    "    x = sorted([(int(numero), letters) for numero, letters in group.items()])\n",
    "\n",
    "    return x\n",
    "resultado = pregunta_07()\n",
    "resultado"
   ]
  },
  {
   "cell_type": "code",
   "execution_count": 162,
   "metadata": {},
   "outputs": [
    {
     "data": {
      "text/plain": [
       "[(0, ['C']),\n",
       " (1, ['B', 'E']),\n",
       " (2, ['A', 'E']),\n",
       " (3, ['A', 'B', 'D', 'E']),\n",
       " (4, ['B', 'E']),\n",
       " (5, ['B', 'C', 'D', 'E']),\n",
       " (6, ['A', 'B', 'C', 'E']),\n",
       " (7, ['A', 'C', 'D', 'E']),\n",
       " (8, ['A', 'B', 'D', 'E']),\n",
       " (9, ['A', 'B', 'C', 'E'])]"
      ]
     },
     "execution_count": 162,
     "metadata": {},
     "output_type": "execute_result"
    }
   ],
   "source": [
    "def pregunta_08():\n",
    "    x = open(r\"D:\\ever\\PhD\\descriptiva\\2024-2-LAB-01-programacion-basica-en-python-Ever708ch\\files\\input\\data.csv\").readlines()\n",
    "\n",
    "    x = [i[0:3].split(\"\\t\") for i in x]\n",
    "\n",
    "    group = {}\n",
    "\n",
    "    for letter, number in x:\n",
    "        number = int(number)  \n",
    "        if number not in group:\n",
    "            group[number] = []  \n",
    "        group[number].append(letter)  \n",
    "    \n",
    "    x = group\n",
    "    x = sorted([(int(numero), sorted(list(set(letters)))) for numero, letters in group.items()])\n",
    "\n",
    "    return x\n",
    "resultado = pregunta_08()\n",
    "resultado\n"
   ]
  },
  {
   "cell_type": "code",
   "execution_count": 99,
   "metadata": {},
   "outputs": [
    {
     "data": {
      "text/plain": [
       "{'aaa': 13,\n",
       " 'bbb': 16,\n",
       " 'ccc': 23,\n",
       " 'ddd': 23,\n",
       " 'eee': 15,\n",
       " 'fff': 20,\n",
       " 'ggg': 13,\n",
       " 'hhh': 16,\n",
       " 'iii': 18,\n",
       " 'jjj': 18}"
      ]
     },
     "execution_count": 99,
     "metadata": {},
     "output_type": "execute_result"
    }
   ],
   "source": [
    "\n",
    "\n",
    "def pregunta_09():\n",
    "    from collections import Counter\n",
    "    x = open(r\"D:\\ever\\PhD\\descriptiva\\2024-2-LAB-01-programacion-basica-en-python-Ever708ch\\files\\input\\data.csv\").readlines()\n",
    "    x = [i.split()[4].split(\",\") for i in x]\n",
    "    group = []\n",
    "    for row in x:\n",
    "        for item in row:\n",
    "            key, value = item.split(\":\")\n",
    "            value = int(value)\n",
    "            group.append(key)\n",
    "    letters = dict(sorted(list(Counter(group).items())))\n",
    "\n",
    "    return letters\n",
    "resultado = pregunta_09()\n",
    "resultado"
   ]
  },
  {
   "cell_type": "code",
   "execution_count": 117,
   "metadata": {},
   "outputs": [
    {
     "data": {
      "text/plain": [
       "[('E', 3, 5),\n",
       " ('A', 3, 4),\n",
       " ('B', 4, 4),\n",
       " ('A', 2, 4),\n",
       " ('C', 4, 4),\n",
       " ('A', 2, 5),\n",
       " ('A', 3, 6),\n",
       " ('B', 2, 3),\n",
       " ('E', 4, 6),\n",
       " ('B', 4, 6),\n",
       " ('C', 4, 5),\n",
       " ('C', 4, 3),\n",
       " ('D', 4, 5),\n",
       " ('E', 2, 3),\n",
       " ('B', 2, 5),\n",
       " ('D', 2, 4),\n",
       " ('E', 3, 6),\n",
       " ('D', 2, 3),\n",
       " ('E', 4, 3),\n",
       " ('E', 2, 3),\n",
       " ('E', 2, 3),\n",
       " ('E', 3, 3),\n",
       " ('D', 3, 3),\n",
       " ('A', 3, 5),\n",
       " ('E', 2, 6),\n",
       " ('E', 3, 6),\n",
       " ('A', 3, 3),\n",
       " ('E', 3, 5),\n",
       " ('A', 2, 5),\n",
       " ('C', 4, 6),\n",
       " ('A', 2, 5),\n",
       " ('D', 2, 6),\n",
       " ('E', 2, 4),\n",
       " ('B', 3, 6),\n",
       " ('B', 3, 5),\n",
       " ('D', 2, 3),\n",
       " ('B', 2, 5),\n",
       " ('C', 4, 3),\n",
       " ('E', 2, 3),\n",
       " ('E', 3, 3)]"
      ]
     },
     "execution_count": 117,
     "metadata": {},
     "output_type": "execute_result"
    }
   ],
   "source": [
    "def pregunta_10():\n",
    "    x = open(r\"D:\\ever\\PhD\\descriptiva\\2024-2-LAB-01-programacion-basica-en-python-Ever708ch\\files\\input\\data.csv\").readlines()\n",
    "    x1 = [i.split()[0].split(\",\") for i in x]\n",
    "    x2 = [len(i.split()[3].split(\",\")) for i in x]\n",
    "    x3 = [len(i.split()[4].split(\",\")) for i in x]\n",
    "    list_1 = list(zip(x1, x2, x3))\n",
    "    list_2 = [(letra[0], num1, num2) for letra, num1, num2 in list_1]\n",
    "\n",
    "    return list_2\n",
    "resultado = pregunta_10()\n",
    "resultado"
   ]
  },
  {
   "cell_type": "code",
   "execution_count": 158,
   "metadata": {},
   "outputs": [
    {
     "data": {
      "text/plain": [
       "{'a': 122, 'b': 49, 'c': 91, 'd': 73, 'e': 86, 'f': 134, 'g': 35}"
      ]
     },
     "execution_count": 158,
     "metadata": {},
     "output_type": "execute_result"
    }
   ],
   "source": [
    "def pregunta_11():\n",
    "    x = open(r\"D:\\ever\\PhD\\descriptiva\\2024-2-LAB-01-programacion-basica-en-python-Ever708ch\\files\\input\\data.csv\").readlines()\n",
    "    x = [line.strip().split('\\t') for line in x]\n",
    "    x1 = [int(i[1]) for i in x]\n",
    "    x2 = [i[3].split(',') for i in x]    \n",
    "    key_value = list(zip(x2, x1))\n",
    "\n",
    "    keys = []\n",
    "    for x in x2:\n",
    "        keys.extend(x)\n",
    "    dict_keys = sorted(set(keys))\n",
    "\n",
    "    dic=dict()\n",
    "    for key in dict_keys:\n",
    "        dic[key] = 0\n",
    "\n",
    "    for x,y in key_value:\n",
    "        for i in x:\n",
    "            dic[i]+= y\n",
    " \n",
    "    return dic\n",
    "resultado = pregunta_11()\n",
    "resultado"
   ]
  },
  {
   "cell_type": "code",
   "execution_count": 159,
   "metadata": {},
   "outputs": [
    {
     "data": {
      "text/plain": [
       "{'A': 177, 'B': 187, 'C': 114, 'D': 136, 'E': 324}"
      ]
     },
     "execution_count": 159,
     "metadata": {},
     "output_type": "execute_result"
    }
   ],
   "source": [
    "def pregunta_12():\n",
    "    x = open(r\"D:\\ever\\PhD\\descriptiva\\2024-2-LAB-01-programacion-basica-en-python-Ever708ch\\files\\input\\data.csv\").readlines()\n",
    "    x = [line.strip().split('\\t') for line in x]\n",
    "    x1 = [i[0] for i in x]\n",
    "    x5 = [i[4].split(',') for i in x]\n",
    "    key_value = list(zip(x1,x5))\n",
    "    keys = sorted(set(x1))\n",
    "\n",
    "    dic = dict()\n",
    "    for key in keys:\n",
    "        dic[key] = 0\n",
    "\n",
    "    for x,y in key_value:\n",
    "        for i in y:\n",
    "            dic[x]+= int(i[4:])\n",
    " \n",
    "    return dic\n",
    "resultado = pregunta_12()\n",
    "resultado"
   ]
  }
 ],
 "metadata": {
  "kernelspec": {
   "display_name": "Python 3",
   "language": "python",
   "name": "python3"
  },
  "language_info": {
   "codemirror_mode": {
    "name": "ipython",
    "version": 3
   },
   "file_extension": ".py",
   "mimetype": "text/x-python",
   "name": "python",
   "nbconvert_exporter": "python",
   "pygments_lexer": "ipython3",
   "version": "3.10.7"
  }
 },
 "nbformat": 4,
 "nbformat_minor": 2
}
